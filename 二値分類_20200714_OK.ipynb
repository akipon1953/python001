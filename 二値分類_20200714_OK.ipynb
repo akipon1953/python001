{
 "cells": [
  {
   "cell_type": "code",
   "execution_count": 23,
   "metadata": {},
   "outputs": [],
   "source": [
    "%matplotlib inline\n",
    "\n",
    "import numpy as np\n",
    "import pandas as pd\n",
    "\n",
    "from sklearn import datasets\n",
    "from matplotlib.colors import ListedColormap\n",
    "from sklearn.model_selection import train_test_split\n",
    "import matplotlib.pyplot as plt\n",
    "from sklearn.preprocessing import StandardScaler\n",
    "\n",
    "from sklearn.metrics import confusion_matrix\n",
    "from sklearn.metrics import accuracy_score\n",
    "\n",
    "import lightgbm as lgb\n",
    "from sklearn.ensemble import ExtraTreesClassifier\n",
    "from rgf.sklearn import RGFClassifier\n",
    "\n",
    "from sklearn.linear_model import LogisticRegression\n",
    "from sklearn.neighbors import KNeighborsClassifier\n",
    "from sklearn.svm import SVC\n",
    "from sklearn.tree import DecisionTreeClassifier\n",
    "from sklearn.ensemble import RandomForestClassifier\n",
    "import math"
   ]
  },
  {
   "cell_type": "code",
   "execution_count": 47,
   "metadata": {},
   "outputs": [],
   "source": [
    "\n"
   ]
  },
  {
   "cell_type": "code",
   "execution_count": 50,
   "metadata": {},
   "outputs": [],
   "source": [
    "\n"
   ]
  },
  {
   "cell_type": "code",
   "execution_count": 2,
   "metadata": {},
   "outputs": [],
   "source": [
    "#\n",
    "# 決定境界プロット関数\n",
    "#\n",
    "def plot_decision_regions(x, y, model, resolution=0.01):\n",
    "\n",
    "    ## 今回は被説明変数が3クラスのため散布図のマーカータイプと3種類の色を用意\n",
    "    ## クラスの種類数に応じて拡張していくのが良いでしょう\n",
    "    markers = ('s', 'x', 'o')\n",
    "    cmap = ListedColormap(('red', 'blue', 'green'))\n",
    "\n",
    "    ## 2変数の入力データの最小値から最大値まで引数resolutionの幅でメッシュを描く\n",
    "    x1_min, x1_max = x[:, 0].min()-1, x[:, 0].max()+1\n",
    "    x2_min, x2_max = x[:, 1].min()-1, x[:, 1].max()+1\n",
    "    x1_mesh, x2_mesh = np.meshgrid(np.arange(x1_min, x1_max, resolution),\n",
    "                                   np.arange(x2_min, x2_max, resolution))\n",
    "\n",
    "    ## メッシュデータ全部を学習モデルで分類\n",
    "    z = model.predict(np.array([x1_mesh.ravel(), x2_mesh.ravel()]).T)\n",
    "    z = z.reshape(x1_mesh.shape)\n",
    "\n",
    "    ## メッシュデータと分離クラスを使って決定境界を描いている\n",
    "    plt.contourf(x1_mesh, x2_mesh, z, alpha=0.4, cmap=cmap)\n",
    "    plt.xlim(x1_mesh.min(), x1_mesh.max())\n",
    "    plt.ylim(x2_mesh.min(), x2_mesh.max())\n",
    "\n",
    "    for idx, cl in enumerate(np.unique(y)):\n",
    "        plt.scatter(x=x[y == cl, 0],\n",
    "                    y=x[y == cl, 1],\n",
    "                    alpha=0.6,\n",
    "                    c=cmap(idx),\n",
    "                    edgecolors='black',\n",
    "                    marker=markers[idx],\n",
    "                    label=cl)"
   ]
  },
  {
   "cell_type": "code",
   "execution_count": 3,
   "metadata": {},
   "outputs": [
    {
     "data": {
      "text/html": [
       "<div>\n",
       "<style scoped>\n",
       "    .dataframe tbody tr th:only-of-type {\n",
       "        vertical-align: middle;\n",
       "    }\n",
       "\n",
       "    .dataframe tbody tr th {\n",
       "        vertical-align: top;\n",
       "    }\n",
       "\n",
       "    .dataframe thead th {\n",
       "        text-align: right;\n",
       "    }\n",
       "</style>\n",
       "<table border=\"1\" class=\"dataframe\">\n",
       "  <thead>\n",
       "    <tr style=\"text-align: right;\">\n",
       "      <th></th>\n",
       "      <th>Y</th>\n",
       "      <th>X</th>\n",
       "      <th>type</th>\n",
       "    </tr>\n",
       "  </thead>\n",
       "  <tbody>\n",
       "    <tr>\n",
       "      <th>0</th>\n",
       "      <td>0.263750</td>\n",
       "      <td>0.769778</td>\n",
       "      <td>1</td>\n",
       "    </tr>\n",
       "    <tr>\n",
       "      <th>1</th>\n",
       "      <td>0.049130</td>\n",
       "      <td>0.810317</td>\n",
       "      <td>1</td>\n",
       "    </tr>\n",
       "    <tr>\n",
       "      <th>2</th>\n",
       "      <td>0.327013</td>\n",
       "      <td>0.760773</td>\n",
       "      <td>1</td>\n",
       "    </tr>\n",
       "  </tbody>\n",
       "</table>\n",
       "</div>"
      ],
      "text/plain": [
       "          Y         X  type\n",
       "0  0.263750  0.769778     1\n",
       "1  0.049130  0.810317     1\n",
       "2  0.327013  0.760773     1"
      ]
     },
     "execution_count": 3,
     "metadata": {},
     "output_type": "execute_result"
    }
   ],
   "source": [
    "df = pd.read_csv(\"c:/data/LinearBi.csv\")\n",
    "df.head(3)"
   ]
  },
  {
   "cell_type": "code",
   "execution_count": 4,
   "metadata": {},
   "outputs": [],
   "source": [
    "y_data = df.type\n",
    "x_data=df.drop(['type'], axis=1)"
   ]
  },
  {
   "cell_type": "code",
   "execution_count": 6,
   "metadata": {},
   "outputs": [],
   "source": [
    "# 入力データの各変数が平均0,標準偏差1になるように正規化\n",
    "# 各アルゴリズムのプロット結果を比較しやすいように予め全入力データを正規化\n",
    "sc = StandardScaler()\n",
    "sc.fit(x_data)\n",
    "x_data = sc.transform(x_data)"
   ]
  },
  {
   "cell_type": "code",
   "execution_count": 7,
   "metadata": {},
   "outputs": [],
   "source": [
    "# データを学習用/テスト用に分割している\n",
    "x_train, x_test, y_train, y_test = train_test_split(x_data,\n",
    "                                                    y_data,\n",
    "                                                    test_size=0.2)"
   ]
  },
  {
   "cell_type": "code",
   "execution_count": 8,
   "metadata": {},
   "outputs": [],
   "source": [
    "#\n",
    "# 機械学習アルゴリズムの定義\n",
    "#\n",
    "lr = LogisticRegression(C=10)\n",
    "knn = KNeighborsClassifier(n_neighbors=5)\n",
    "svm = SVC(kernel='rbf', C=1.0)\n",
    "dc = DecisionTreeClassifier(criterion='entropy', max_depth=3)\n",
    "rf = RandomForestClassifier(criterion='entropy',\n",
    "                            n_estimators=10)"
   ]
  },
  {
   "cell_type": "raw",
   "metadata": {},
   "source": [
    "models = [lr, knn, svm, dc, rf]\n",
    "model_names = ['logistic regression',\n",
    "               'k nearest neighbor',\n",
    "               'svm',\n",
    "               'decision tree',\n",
    "               'random forest']"
   ]
  },
  {
   "cell_type": "code",
   "execution_count": 54,
   "metadata": {},
   "outputs": [
    {
     "name": "stderr",
     "output_type": "stream",
     "text": [
      "'c' argument looks like a single numeric RGB or RGBA sequence, which should be avoided as value-mapping will have precedence in case its length matches with 'x' & 'y'.  Please use a 2-D array with a single row if you really want to specify the same RGB or RGBA value for all points.\n",
      "'c' argument looks like a single numeric RGB or RGBA sequence, which should be avoided as value-mapping will have precedence in case its length matches with 'x' & 'y'.  Please use a 2-D array with a single row if you really want to specify the same RGB or RGBA value for all points.\n"
     ]
    },
    {
     "data": {
      "text/plain": [
       "Text(0.5, 1.0, 'extremely randomized trees')"
      ]
     },
     "execution_count": 54,
     "metadata": {},
     "output_type": "execute_result"
    },
    {
     "data": {
      "image/png": "[encoded data removed]",
      "text/plain": [
       "<Figure size 576x432 with 1 Axes>"
      ]
     },
     "metadata": {
      "needs_background": "light"
     },
     "output_type": "display_data"
    }
   ],
   "source": [
    "plt.figure(figsize=(8,6))\n",
    "\n",
    "#plt.subplot(math.ceil(len(models)/2), 2, plot_num)\n",
    "# モデルの学習\n",
    "ert = ExtraTreesClassifier(n_estimators=100, random_state=0)\n",
    "ert.fit(x_train, y_train)\n",
    "\n",
    "plot_decision_regions(x_data, y_data, ert)\n",
    "plt.title('extremely randomized trees')"
   ]
  },
  {
   "cell_type": "code",
   "execution_count": 52,
   "metadata": {},
   "outputs": [
    {
     "name": "stderr",
     "output_type": "stream",
     "text": [
      "'c' argument looks like a single numeric RGB or RGBA sequence, which should be avoided as value-mapping will have precedence in case its length matches with 'x' & 'y'.  Please use a 2-D array with a single row if you really want to specify the same RGB or RGBA value for all points.\n",
      "'c' argument looks like a single numeric RGB or RGBA sequence, which should be avoided as value-mapping will have precedence in case its length matches with 'x' & 'y'.  Please use a 2-D array with a single row if you really want to specify the same RGB or RGBA value for all points.\n"
     ]
    },
    {
     "data": {
      "text/plain": [
       "Text(0.5, 1.0, 'regularized greedy forest')"
      ]
     },
     "execution_count": 52,
     "metadata": {},
     "output_type": "execute_result"
    },
    {
     "data": {
      "image/png": "[encoded data removed]",
      "text/plain": [
       "<Figure size 576x432 with 1 Axes>"
      ]
     },
     "metadata": {
      "needs_background": "light"
     },
     "output_type": "display_data"
    }
   ],
   "source": [
    "plt.figure(figsize=(8,6))\n",
    "\n",
    "rgf = RGFClassifier(max_leaf=400,\n",
    "                    algorithm=\"RGF_Sib\",\n",
    "                    test_interval=100,)\n",
    "\n",
    "\n",
    "#plt.subplot(math.ceil(len(models)/2), 2, plot_num)\n",
    "# モデルの学習\n",
    "rgf.fit(x_train, y_train)\n",
    "\n",
    "plot_decision_regions(x_data, y_data, rgf)\n",
    "plt.title('regularized greedy forest')"
   ]
  },
  {
   "cell_type": "code",
   "execution_count": 46,
   "metadata": {},
   "outputs": [
    {
     "name": "stderr",
     "output_type": "stream",
     "text": [
      "'c' argument looks like a single numeric RGB or RGBA sequence, which should be avoided as value-mapping will have precedence in case its length matches with 'x' & 'y'.  Please use a 2-D array with a single row if you really want to specify the same RGB or RGBA value for all points.\n",
      "'c' argument looks like a single numeric RGB or RGBA sequence, which should be avoided as value-mapping will have precedence in case its length matches with 'x' & 'y'.  Please use a 2-D array with a single row if you really want to specify the same RGB or RGBA value for all points.\n"
     ]
    },
    {
     "data": {
      "text/plain": [
       "Text(0.5, 1.0, 'logistic regression')"
      ]
     },
     "execution_count": 46,
     "metadata": {},
     "output_type": "execute_result"
    },
    {
     "data": {
      "image/png": "[encoded data removed]",
      "text/plain": [
       "<Figure size 576x432 with 1 Axes>"
      ]
     },
     "metadata": {
      "needs_background": "light"
     },
     "output_type": "display_data"
    }
   ],
   "source": [
    "plt.figure(figsize=(8,6))\n",
    "\n",
    "#plt.subplot(math.ceil(len(models)/2), 2, plot_num)\n",
    "# モデルの学習\n",
    "lr.fit(x_train, y_train)\n",
    "\n",
    "plot_decision_regions(x_data, y_data, lr)\n",
    "plt.title('logistic regression')"
   ]
  },
  {
   "cell_type": "code",
   "execution_count": 45,
   "metadata": {},
   "outputs": [
    {
     "name": "stderr",
     "output_type": "stream",
     "text": [
      "'c' argument looks like a single numeric RGB or RGBA sequence, which should be avoided as value-mapping will have precedence in case its length matches with 'x' & 'y'.  Please use a 2-D array with a single row if you really want to specify the same RGB or RGBA value for all points.\n",
      "'c' argument looks like a single numeric RGB or RGBA sequence, which should be avoided as value-mapping will have precedence in case its length matches with 'x' & 'y'.  Please use a 2-D array with a single row if you really want to specify the same RGB or RGBA value for all points.\n"
     ]
    },
    {
     "data": {
      "text/plain": [
       "Text(0.5, 1.0, 'k nearest neighbor')"
      ]
     },
     "execution_count": 45,
     "metadata": {},
     "output_type": "execute_result"
    },
    {
     "data": {
      "image/png": "[encoded data removed]",
      "text/plain": [
       "<Figure size 576x432 with 1 Axes>"
      ]
     },
     "metadata": {
      "needs_background": "light"
     },
     "output_type": "display_data"
    }
   ],
   "source": [
    "plt.figure(figsize=(8,6))\n",
    "\n",
    "#plt.subplot(math.ceil(len(models)/2), 2, plot_num)\n",
    "# モデルの学習\n",
    "knn.fit(x_train, y_train)\n",
    "\n",
    "plot_decision_regions(x_data, y_data, knn)\n",
    "plt.title('k nearest neighbor')"
   ]
  },
  {
   "cell_type": "code",
   "execution_count": 44,
   "metadata": {},
   "outputs": [
    {
     "name": "stderr",
     "output_type": "stream",
     "text": [
      "'c' argument looks like a single numeric RGB or RGBA sequence, which should be avoided as value-mapping will have precedence in case its length matches with 'x' & 'y'.  Please use a 2-D array with a single row if you really want to specify the same RGB or RGBA value for all points.\n",
      "'c' argument looks like a single numeric RGB or RGBA sequence, which should be avoided as value-mapping will have precedence in case its length matches with 'x' & 'y'.  Please use a 2-D array with a single row if you really want to specify the same RGB or RGBA value for all points.\n"
     ]
    },
    {
     "data": {
      "text/plain": [
       "Text(0.5, 1.0, 'random forest')"
      ]
     },
     "execution_count": 44,
     "metadata": {},
     "output_type": "execute_result"
    },
    {
     "data": {
      "image/png": "[encoded data removed]",
      "text/plain": [
       "<Figure size 576x432 with 1 Axes>"
      ]
     },
     "metadata": {
      "needs_background": "light"
     },
     "output_type": "display_data"
    }
   ],
   "source": [
    "plt.figure(figsize=(8,6))\n",
    "plot_num = 1\n",
    "\n",
    "#plt.subplot(math.ceil(len(models)/2), 2, plot_num)\n",
    "# モデルの学習\n",
    "rf.fit(x_train, y_train)\n",
    "\n",
    "plot_decision_regions(x_data, y_data, rf)\n",
    "plt.title('random forest')"
   ]
  },
  {
   "cell_type": "code",
   "execution_count": null,
   "metadata": {},
   "outputs": [],
   "source": []
  },
  {
   "cell_type": "raw",
   "metadata": {},
   "source": [
    "#lightgbm\n",
    "# データセットを登録\n",
    "lgb_train = lgb.Dataset(x_train, y_train)\n",
    "lgb_test = lgb.Dataset(x_test, y_test, reference=lgb_train)\n",
    "\n",
    "# LightGBMのハイパーパラメータを設定\n",
    "params = {'task': 'train',               # タスクを訓練に設定\n",
    "          'boosting_type': 'gbdt',       # GBDTを指定\n",
    "          #'objective': 'multiclass',       # 多クラス分類を指定\n",
    "          'objective': 'binary',        # 二値分類\n",
    "          #'metric': {'multi_logloss'},  # 多クラス分類の損失（誤差）\n",
    "          'metric': 'auc',               # AUC の最大化を目指す\n",
    "          #'num_class': 5,                  # クラスの数\n",
    "          'learning_rate': 0.01,           # 学習率\n",
    "          #'num_leaves': 21,              # ノードの数\n",
    "          #'min_data_in_leaf': 3,        # 決定木ノードの最小データ数\n",
    "          'num_iteration': 50}    "
   ]
  },
  {
   "cell_type": "code",
   "execution_count": 38,
   "metadata": {},
   "outputs": [
    {
     "data": {
      "text/plain": [
       "LGBMClassifier()"
      ]
     },
     "execution_count": 38,
     "metadata": {},
     "output_type": "execute_result"
    }
   ],
   "source": [
    "#lightgbm\n",
    "# データセットを登録\n",
    "lgb_train = lgb.Dataset(x_train, y_train)\n",
    "lgb_test = lgb.Dataset(x_test, y_test, reference=lgb_train)\n",
    "\n",
    "lightg = lgb.LGBMClassifier() # モデルのインスタンスの作成\n",
    "lightg.fit(x_train, y_train) # モデルの学習"
   ]
  },
  {
   "cell_type": "raw",
   "metadata": {},
   "source": [
    "lgb_results = {}                                            # 学習の履歴を入れる入物\n",
    "lightg = lgb.train(params=params,                 # ハイパーパラメータをセット\n",
    "                  train_set=lgb_train,                     # 訓練データを訓練用にセット\n",
    "                  valid_sets=[lgb_train, lgb_test],   # 訓練データとテストデータをセット\n",
    "                  valid_names=['Train', 'Test'],        # データセットの名前をそれぞれ設定\n",
    "                  num_boost_round=100,              # 計算回数\n",
    "                  early_stopping_rounds=10,          # アーリーストッピング設定\n",
    "                  evals_result=lgb_results)             # 履歴を保存する"
   ]
  },
  {
   "cell_type": "raw",
   "metadata": {},
   "source": [
    "best_iteration = model.best_iteration                # 最良の予測器が得られたイタレーション数\n",
    "print(best_iteration)"
   ]
  },
  {
   "cell_type": "code",
   "execution_count": 42,
   "metadata": {},
   "outputs": [
    {
     "name": "stdout",
     "output_type": "stream",
     "text": [
      "[[9.91055469e-01 8.94453124e-03]\n",
      " [2.06158903e-03 9.97938411e-01]\n",
      " [4.76197103e-02 9.52380290e-01]\n",
      " [2.06158903e-03 9.97938411e-01]\n",
      " [2.06158903e-03 9.97938411e-01]\n",
      " [2.06158903e-03 9.97938411e-01]\n",
      " [9.93039259e-01 6.96074100e-03]\n",
      " [2.06158903e-03 9.97938411e-01]\n",
      " [3.56406195e-02 9.64359380e-01]\n",
      " [9.90605797e-01 9.39420290e-03]\n",
      " [2.06158903e-03 9.97938411e-01]\n",
      " [9.99672858e-01 3.27142067e-04]\n",
      " [9.99672858e-01 3.27142067e-04]\n",
      " [2.06158903e-03 9.97938411e-01]\n",
      " [9.91055469e-01 8.94453124e-03]]\n"
     ]
    }
   ],
   "source": [
    "# Scikit-learn（評価算出）\n",
    "from sklearn.metrics import confusion_matrix\n",
    "from sklearn.metrics import accuracy_score\n",
    "\n",
    "# テストデータを予測する\n",
    "y_pred_prob = lightg.predict_proba(x_test)\n",
    "\n",
    "print(y_pred_prob)"
   ]
  },
  {
   "cell_type": "code",
   "execution_count": 36,
   "metadata": {},
   "outputs": [
    {
     "data": {
      "text/plain": [
       "0.4666666666666667"
      ]
     },
     "execution_count": 36,
     "metadata": {},
     "output_type": "execute_result"
    }
   ],
   "source": [
    "accuracy_score(y_test, pred_y)"
   ]
  },
  {
   "cell_type": "code",
   "execution_count": 39,
   "metadata": {},
   "outputs": [
    {
     "name": "stderr",
     "output_type": "stream",
     "text": [
      "'c' argument looks like a single numeric RGB or RGBA sequence, which should be avoided as value-mapping will have precedence in case its length matches with 'x' & 'y'.  Please use a 2-D array with a single row if you really want to specify the same RGB or RGBA value for all points.\n",
      "'c' argument looks like a single numeric RGB or RGBA sequence, which should be avoided as value-mapping will have precedence in case its length matches with 'x' & 'y'.  Please use a 2-D array with a single row if you really want to specify the same RGB or RGBA value for all points.\n"
     ]
    },
    {
     "data": {
      "text/plain": [
       "Text(0.5, 1.0, 'lightgbm')"
      ]
     },
     "execution_count": 39,
     "metadata": {},
     "output_type": "execute_result"
    },
    {
     "data": {
      "image/png": "[encoded data removed]",
      "text/plain": [
       "<Figure size 576x432 with 1 Axes>"
      ]
     },
     "metadata": {
      "needs_background": "light"
     },
     "output_type": "display_data"
    }
   ],
   "source": [
    "plt.figure(figsize=(8,6))\n",
    "plot_num = 1\n",
    "\n",
    "#plt.subplot(math.ceil(len(models)/2), 2, plot_num)\n",
    "\n",
    "\n",
    "plot_decision_regions(x_data, y_data, lightg)\n",
    "plt.title('lightgbm')"
   ]
  },
  {
   "cell_type": "code",
   "execution_count": null,
   "metadata": {},
   "outputs": [],
   "source": []
  },
  {
   "cell_type": "code",
   "execution_count": null,
   "metadata": {},
   "outputs": [],
   "source": []
  },
  {
   "cell_type": "code",
   "execution_count": 56,
   "metadata": {},
   "outputs": [],
   "source": [
    "import xlearn as xl"
   ]
  },
  {
   "cell_type": "code",
   "execution_count": 57,
   "metadata": {},
   "outputs": [],
   "source": [
    "ffm_model = xl.create_ffm()   "
   ]
  },
  {
   "cell_type": "code",
   "execution_count": 58,
   "metadata": {},
   "outputs": [
    {
     "ename": "Exception",
     "evalue": "('Invalid train.Can be test file path or xLearn DMatrix', <class 'numpy.ndarray'>)",
     "output_type": "error",
     "traceback": [
      "\u001b[1;31m---------------------------------------------------------------------------\u001b[0m",
      "\u001b[1;31mException\u001b[0m                                 Traceback (most recent call last)",
      "\u001b[1;32m<ipython-input-58-ebeefe5a92ff>\u001b[0m in \u001b[0;36m<module>\u001b[1;34m\u001b[0m\n\u001b[1;32m----> 1\u001b[1;33m \u001b[0mffm_model\u001b[0m\u001b[1;33m.\u001b[0m\u001b[0msetTrain\u001b[0m\u001b[1;33m(\u001b[0m\u001b[0mx_train\u001b[0m\u001b[1;33m)\u001b[0m\u001b[1;33m\u001b[0m\u001b[1;33m\u001b[0m\u001b[0m\n\u001b[0m",
      "\u001b[1;32m~\\anaconda3\\envs\\py36a\\lib\\site-packages\\xlearn\\xlearn.py\u001b[0m in \u001b[0;36msetTrain\u001b[1;34m(self, train_path)\u001b[0m\n\u001b[0;32m    128\u001b[0m             \u001b[0m_check_call\u001b[0m\u001b[1;33m(\u001b[0m\u001b[0m_LIB\u001b[0m\u001b[1;33m.\u001b[0m\u001b[0mXLearnSetBool\u001b[0m\u001b[1;33m(\u001b[0m\u001b[0mctypes\u001b[0m\u001b[1;33m.\u001b[0m\u001b[0mbyref\u001b[0m\u001b[1;33m(\u001b[0m\u001b[0mself\u001b[0m\u001b[1;33m.\u001b[0m\u001b[0mhandle\u001b[0m\u001b[1;33m)\u001b[0m\u001b[1;33m,\u001b[0m \u001b[0mc_str\u001b[0m\u001b[1;33m(\u001b[0m\u001b[1;34m\"from_file\"\u001b[0m\u001b[1;33m)\u001b[0m\u001b[1;33m,\u001b[0m \u001b[0mctypes\u001b[0m\u001b[1;33m.\u001b[0m\u001b[0mc_bool\u001b[0m\u001b[1;33m(\u001b[0m\u001b[1;32mFalse\u001b[0m\u001b[1;33m)\u001b[0m\u001b[1;33m)\u001b[0m\u001b[1;33m)\u001b[0m\u001b[1;33m\u001b[0m\u001b[1;33m\u001b[0m\u001b[0m\n\u001b[0;32m    129\u001b[0m         \u001b[1;32melse\u001b[0m\u001b[1;33m:\u001b[0m\u001b[1;33m\u001b[0m\u001b[1;33m\u001b[0m\u001b[0m\n\u001b[1;32m--> 130\u001b[1;33m             \u001b[1;32mraise\u001b[0m \u001b[0mException\u001b[0m\u001b[1;33m(\u001b[0m\u001b[1;34m\"Invalid train.Can be test file path or xLearn DMatrix\"\u001b[0m\u001b[1;33m,\u001b[0m \u001b[0mtype\u001b[0m\u001b[1;33m(\u001b[0m\u001b[0mtrain_path\u001b[0m\u001b[1;33m)\u001b[0m\u001b[1;33m)\u001b[0m\u001b[1;33m\u001b[0m\u001b[1;33m\u001b[0m\u001b[0m\n\u001b[0m\u001b[0;32m    131\u001b[0m \u001b[1;33m\u001b[0m\u001b[0m\n\u001b[0;32m    132\u001b[0m     \u001b[1;32mdef\u001b[0m \u001b[0msetTest\u001b[0m\u001b[1;33m(\u001b[0m\u001b[0mself\u001b[0m\u001b[1;33m,\u001b[0m \u001b[0mtest_path\u001b[0m\u001b[1;33m)\u001b[0m\u001b[1;33m:\u001b[0m\u001b[1;33m\u001b[0m\u001b[1;33m\u001b[0m\u001b[0m\n",
      "\u001b[1;31mException\u001b[0m: ('Invalid train.Can be test file path or xLearn DMatrix', <class 'numpy.ndarray'>)"
     ]
    }
   ],
   "source": [
    "ffm_model.setTrain(x_train) "
   ]
  },
  {
   "cell_type": "code",
   "execution_count": 59,
   "metadata": {},
   "outputs": [],
   "source": [
    "param = {'task':'binary', 'lr':0.2, 'lambda':0.002, 'metric':'acc'}"
   ]
  },
  {
   "cell_type": "code",
   "execution_count": null,
   "metadata": {},
   "outputs": [],
   "source": []
  }
 ],
 "metadata": {
  "kernelspec": {
   "display_name": "py36a",
   "language": "python",
   "name": "python3"
  },
  "language_info": {
   "codemirror_mode": {
    "name": "ipython",
    "version": 3
   },
   "file_extension": ".py",
   "mimetype": "text/x-python",
   "name": "python",
   "nbconvert_exporter": "python",
   "pygments_lexer": "ipython3",
   "version": "3.6.10"
  }
 },
 "nbformat": 4,
 "nbformat_minor": 4
}
